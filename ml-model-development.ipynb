{
 "cells": [
  {
   "cell_type": "markdown",
   "id": "95cfbd26-7fa9-4dd7-9367-c27e3c9e03bb",
   "metadata": {},
   "source": [
    "# 📈 Sales Forecasting\n",
    "\n",
    "---\n",
    "\n",
    "## Background\n",
    "One of the key advantages of the new SageMaker AI Unified Studio is its ability to integrate data from multiple sources. In this notebook, we'll walk through an example of bringing data from a Lakehouse to train a sales forecasting model. \n",
    "\n",
    "We'll go through the following steps:\n",
    "\n",
    "- 🔍 Querying historical sales data\n",
    "- 🔄 Transforming the data to feed into Amazon SageMaker algorithms\n",
    "- 🤖 Training a model to forecast sales\n",
    "- 📈 Predicting sales for the next year to detect our top 5 products\n",
    "\n",
    "\n",
    "## 🛠️ Preparation\n",
    "\n",
    "Let's start by bringing in the Python libraries that we'll use throughout the notebook and retrieving the name of the project's database through the default catalog."
   ]
  },
  {
   "cell_type": "code",
   "execution_count": null,
   "id": "6d777a36-e56e-467a-a69e-817c57fee926",
   "metadata": {},
   "outputs": [],
   "source": [
    "# Import required libraries\n",
    "from sagemaker_studio import Project\n",
    "import lab_utilities\n",
    "\n",
    "# Get database names and find the project database\n",
    "project = Project()\n",
    "databases = project.connection().catalog().databases\n",
    "project_db = next(db.name for db in databases if db.name.startswith('project_ml_'))"
   ]
  },
  {
   "cell_type": "markdown",
   "id": "c66b63cb-0773-498a-9021-1135975ccb9b",
   "metadata": {},
   "source": [
    "<div class=\"alert alert-block alert-info\">\n",
    "<center><b>‼️️ IMPORTANT:</b> Copy the database name <code>project_ml_...</code> from the output of the next cell as we'll use in the different SQL cells of the notebook ‼️️</center>\n",
    "</div>"
   ]
  },
  {
   "cell_type": "code",
   "execution_count": null,
   "id": "b116523a-4d5e-44f7-bce0-cc443f1b28a7",
   "metadata": {},
   "outputs": [],
   "source": [
    "print(project_db)"
   ]
  },
  {
   "cell_type": "markdown",
   "id": "e185bf02-2091-48a1-9247-320f039bc10e",
   "metadata": {},
   "source": [
    "## 🔍 Data Exploration\n",
    "\n",
    "Here we'll be using SQL to query our historical sales data and inspect it.\n",
    "\n",
    "Let's query our data (change `[REPLACE-VALUE-HERE]` with the `project_ml_...` value retrieved above):\n"
   ]
  },
  {
   "cell_type": "code",
   "execution_count": null,
   "id": "aa69eb9e-8f80-463b-9b9e-9684eb1cf106",
   "metadata": {
    "scrolled": true
   },
   "outputs": [],
   "source": [
    "%%sql project.athena\n",
    "select * from \"awsdatacatalog\".\"[REPLACE-VALUE-HERE]\".\"sales_table_enriched_w_campaigns\""
   ]
  },
  {
   "cell_type": "markdown",
   "id": "67c9aaa9-e026-473e-830e-199f70a5ee23",
   "metadata": {},
   "source": [
    "Convert query results to pandas DataFrame"
   ]
  },
  {
   "cell_type": "code",
   "execution_count": null,
   "id": "27ebe34f-7a77-4a16-9447-ed2764ae3fe8",
   "metadata": {},
   "outputs": [],
   "source": [
    "data = _.to_pandas()"
   ]
  },
  {
   "cell_type": "markdown",
   "id": "bc4d11c4-0367-4ae1-b43b-e27ee70a382d",
   "metadata": {},
   "source": [
    "***"
   ]
  },
  {
   "cell_type": "markdown",
   "id": "c43a504a-3657-4b56-b2f5-62c7a93d636f",
   "metadata": {},
   "source": [
    "## 🔄 Data Preparation\n",
    "\n",
    "Our data preparation process transforms raw sales data into a format that enables accurate sales forecasting. This critical step:\n",
    "\n",
    "1. 📅 **Organizes Sales by Time**: Arranges sales chronologically and extracts time patterns (year, month, day of week) to identify seasonal trends and weekly purchasing behaviors.\n",
    "\n",
    "2. 📈 **Creates Sales Memory**: Calculates recent performance metrics for each product and channel, helping the system understand sales momentum and trends.\n",
    "\n",
    "3. 🔢  **Translates Categories to Numbers**: Converts business categories (regions, product types, sales channels) into numerical formats while preserving their distinct characteristics.\n",
    "\n",
    "4. ⏳ **Establishes Learning Timeline**: Divides data into historical training data, recent validation data, and the most current test data to ensure forecasts are built on solid patterns while being tested against recent trends.\n",
    "\n",
    "5. ⚖️ **Balances Numerical Scales**: Adjusts values like prices and costs to comparable scales, preventing larger numbers from receiving disproportionate importance.\n",
    "\n",
    "**Business Value**: This process enables our system to predict sales up to a year ahead with high accuracy, account for seasonal and regional patterns, adapt to market changes, and provide insights for inventory planning and marketing timing. It transforms raw data into actionable intelligence for strategic decision-making about product focus, market expansion, and resource investment.\n"
   ]
  },
  {
   "cell_type": "markdown",
   "id": "b3d003f8-64c7-40ce-811f-13979263c31e",
   "metadata": {},
   "source": [
    "Let's start by defining hour horizon, for example 1 year.\n",
    "\n",
    "Horizon format:\n",
    "- year: example \"1y\"\n",
    "- months: example \"3m\"\n",
    "- days: example \"15d\""
   ]
  },
  {
   "cell_type": "code",
   "execution_count": null,
   "id": "c8ebf7c0-ec7d-4bfd-a0ee-6d163587a1bb",
   "metadata": {},
   "outputs": [],
   "source": [
    "horizon = \"1y\""
   ]
  },
  {
   "cell_type": "markdown",
   "id": "b938c58d-1cc4-4b1d-9a0d-15411af4355e",
   "metadata": {},
   "source": [
    "Let's now prepare our dataset"
   ]
  },
  {
   "cell_type": "code",
   "execution_count": null,
   "id": "78c59c08-13c5-44d8-9de6-edc23caefb7a",
   "metadata": {
    "scrolled": true
   },
   "outputs": [],
   "source": [
    "# Process and split the data for machine learning training and evaluation\n",
    "(\n",
    "    X_train,\n",
    "    X_val,\n",
    "    X_test,\n",
    "    y_train,\n",
    "    y_val,\n",
    "    y_test,\n",
    "    feature_columns,\n",
    "    scaler,\n",
    "    df_encoded,\n",
    "    future_dates,\n",
    ") = lab_utilities.process_data(data, prediction_horizon=horizon)"
   ]
  },
  {
   "cell_type": "markdown",
   "id": "d4dd59f1-27b1-4d25-8f55-8c8f3f422e51",
   "metadata": {},
   "source": [
    "---\n",
    "\n",
    "# 🤖 Model Training: Building Our Sales Prediction Engine\n",
    "\n",
    "The model training process takes our prepared data and builds a powerful prediction engine that can forecast future sales. This critical step:\n",
    "\n",
    "1. **Creates a Learning System**: Establishes a specialized algorithm (XGBoost) that excels at finding complex patterns in sales data and making accurate predictions based on those patterns.\n",
    "\n",
    "2. **Teaches the System with Historical Data**: The system learns by analyzing thousands of past sales transactions, identifying which factors most strongly influence sales volumes.\n",
    "\n",
    "3. **Tests Prediction Accuracy**: The system makes predictions on recent data where we already know the actual sales figures, allowing us to measure how accurate it is before using it for future forecasting.\n",
    "\n",
    "4. **Identifies Key Sales Drivers**: Reveals which factors have the greatest impact on sales, such as seasonality, pricing, or regional differences, providing valuable business insights.\n",
    "\n",
    "**Business Value**: This trained model becomes our sales forecasting engine, enabling leadership to anticipate market demand, optimize inventory, plan marketing campaigns, and allocate resources more effectively. By identifying the most influential sales factors, it also provides strategic insights for business growth.\n"
   ]
  },
  {
   "cell_type": "code",
   "execution_count": null,
   "id": "569c1c16",
   "metadata": {
    "scrolled": true
   },
   "outputs": [],
   "source": [
    "# Train the model using our prepared data\n",
    "model = lab_utilities.model_train_eval(X_train, y_train, X_val, y_val, feature_columns)"
   ]
  },
  {
   "cell_type": "markdown",
   "id": "82974bd2-6fae-4e52-bf20-d2c807635cfe",
   "metadata": {},
   "source": [
    "---\n",
    "\n",
    "# 📈 Sales Prediction: Forecasting Future Business Performance\n",
    "\n",
    "The sales prediction process takes our trained model and uses it to forecast future sales across products, regions, and time periods. This critical step:\n",
    "\n",
    "1. **Creates a Future Scenario**: Builds a template based on our most recent sales data, establishing a realistic starting point for predictions.\n",
    "\n",
    "2. **Simulates Time Progression**: Updates all time-related factors (day of week, month, season) to reflect future dates, allowing the system to account for seasonal patterns and trends.\n",
    "\n",
    "3. **Applies Market Intelligence**: Uses our trained model to predict how sales will respond to these changing conditions based on historical patterns.\n",
    "\n",
    "4. **Adds Real-World Variability**: Incorporates natural variations like weekend effects (+15% sales) and seasonal factors (summer months +10%), making predictions more realistic by mimicking actual market fluctuations.\n",
    "\n",
    "5. **Organizes Results for Decision-Making**: Arranges predictions by date, region, and product category, highlighting top-performing products and time periods to guide strategic planning.\n",
    "\n",
    "**Business Value**: This prediction process delivers actionable sales forecasts that enable leadership to identify future top-selling products, optimize inventory levels, plan targeted marketing campaigns, and allocate resources effectively across regions and product lines. The realistic variability built into the predictions helps prepare for best-case and worst-case scenarios.\n",
    "\n",
    "Let's predict the sales for the next year for the Europe region."
   ]
  },
  {
   "cell_type": "code",
   "execution_count": null,
   "id": "cfb89f4d-3878-4f70-b979-f7963e8e11c6",
   "metadata": {},
   "outputs": [],
   "source": [
    "# Set target region for analysis\n",
    "region = \"Europe\"\n",
    "\n",
    "# Generate sales predictions for the region\n",
    "product_sales = lab_utilities.predict_sales(\n",
    "    model, df_encoded, future_dates, target_region=region\n",
    ")\n",
    "\n",
    "# Create summary of total predicted sales by product\n",
    "product_summary = (\n",
    "    product_sales.groupby([\"region\", \"item_type\", \"product_category\"])[\n",
    "        \"predicted_units\"\n",
    "    ]\n",
    "    .sum()\n",
    "    .reset_index()\n",
    "    .sort_values(\"predicted_units\", ascending=False)\n",
    ")\n",
    "\n",
    "# Get top 5 products\n",
    "top_5_products_predictions = product_summary.head(5)\n",
    "\n",
    "# Display results\n",
    "print(f\"\\nTotal Predicted Sales by Product for the {len(future_dates)}-day period:\")\n",
    "product_summary[[\"region\", \"item_type\", \"predicted_units\"]] "
   ]
  },
  {
   "cell_type": "markdown",
   "id": "5a9e7387-db25-4bc3-8ebc-b00a98c5f83d",
   "metadata": {},
   "source": [
    "Here the top 5 products for which we predicted we'll sell the most units"
   ]
  },
  {
   "cell_type": "code",
   "execution_count": null,
   "id": "7a3fd18e-f780-4524-90a3-36d837a2359c",
   "metadata": {},
   "outputs": [],
   "source": [
    "for item in top_5_products_predictions[\"item_type\"]:\n",
    "    print(f\"• {item}\")"
   ]
  },
  {
   "cell_type": "markdown",
   "id": "9f234c79-5e7c-43fe-8e8b-f3a71f48cc88",
   "metadata": {},
   "source": [
    "## 📊 Visualize the forecasted sales\n",
    "\n",
    "This graph shows the average weekly predicted sales for each product over time."
   ]
  },
  {
   "cell_type": "code",
   "execution_count": null,
   "id": "e50b3f85-cfff-409a-81ab-31041591ed63",
   "metadata": {},
   "outputs": [],
   "source": [
    "lab_utilities.plot_forescast(top_5_products_predictions, product_sales, region)"
   ]
  },
  {
   "cell_type": "markdown",
   "id": "1df92951-387d-4a78-be71-9d94bb170c69",
   "metadata": {},
   "source": [
    "***"
   ]
  },
  {
   "cell_type": "markdown",
   "id": "e31af7da-67db-464d-bf96-71bf4beaa378",
   "metadata": {},
   "source": [
    "## 🤖💡 Preparing for the GenAI Marketing Campaign Generator\n",
    "\n",
    "Now that we kwnow the top 5 items that will generate profit, let's extrapolate some of the positive reviews to reinforce the marketing campaing.\n",
    "\n",
    "We query the reviews table (change `[REPLACE-VALUE-HERE]` with `project_ml_...` value retrieved below):"
   ]
  },
  {
   "cell_type": "code",
   "execution_count": null,
   "id": "ea91eedc-0fe8-49e9-989c-876c1afa9ed1",
   "metadata": {},
   "outputs": [],
   "source": [
    "print(project_db)"
   ]
  },
  {
   "cell_type": "code",
   "execution_count": null,
   "id": "64354ee2-5d4e-419c-9b9c-287a98c283a2",
   "metadata": {
    "scrolled": true
   },
   "outputs": [],
   "source": [
    "%%sql project.athena\n",
    "select * from \"awsdatacatalog\".\"[REPLACE-VALUE-HERE]\".\"product_reviews\""
   ]
  },
  {
   "cell_type": "markdown",
   "id": "8b463ea0-7e9b-4ae4-a91a-874be4e0c1a5",
   "metadata": {},
   "source": [
    "Convert query results to pandas DataFrame"
   ]
  },
  {
   "cell_type": "code",
   "execution_count": null,
   "id": "3d4792d8-162f-4241-b004-611c9bca7177",
   "metadata": {
    "scrolled": true
   },
   "outputs": [],
   "source": [
    "reviews = _.to_pandas()"
   ]
  },
  {
   "cell_type": "markdown",
   "id": "2842688e-39b6-4a41-8e3d-bf99f0267bba",
   "metadata": {},
   "source": [
    "Here the base GenAI prompt that we'll use in the next section of the workshop to generate our marketing campaigns:"
   ]
  },
  {
   "cell_type": "code",
   "execution_count": null,
   "id": "d5a8d6ab-a05e-4d19-b754-32a8c682ae91",
   "metadata": {},
   "outputs": [],
   "source": [
    "base_text = \"\"\"\n",
    "Using this product data:\n",
    "Product Name: {product_name}\n",
    "Description: {product_description}\n",
    "Reviews: {product_reviews}\n",
    "Target Persona: Working people\n",
    "\n",
    "Create personalized marketing content for [target persona]:\n",
    "\n",
    "1. Personal Hook: Create emotional connection using customer pain points/desires\n",
    "2. Generate:\n",
    "\n",
    "* Custom headline addressing [target persona] needs\n",
    "* 2 personalized social posts highlighting how product fits their lifestyle\n",
    "* Tailored benefits matching customer profile\n",
    "* Specific use cases for this customer type\n",
    "* Personal testimonials from similar customers\n",
    "\n",
    "Tone: Match [target persona] preferences\n",
    "Focus: Connect product benefits to personal needs\n",
    "Include: Targeted solutions and relatable experiences\n",
    "\"\"\""
   ]
  },
  {
   "cell_type": "markdown",
   "id": "d19b3050-8a19-4b4a-a1a1-35f4dbb929ac",
   "metadata": {},
   "source": [
    "Here we generate one prompt for each Product campaign. Copy the generated output in a notepad as you will need it for the next lab."
   ]
  },
  {
   "cell_type": "code",
   "execution_count": null,
   "id": "8ad98965-4da7-43b6-9801-c70487f914db",
   "metadata": {},
   "outputs": [],
   "source": [
    "# Generate the prompts\n",
    "prompts = lab_utilities.generate_marketing_prompts(base_text, top_5_products_predictions, reviews)\n",
    "\n",
    "# Print the prompts\n",
    "lab_utilities.print_marketing_prompts(prompts)"
   ]
  }
 ],
 "metadata": {
  "kernelspec": {
   "display_name": "Python 3 (ipykernel)",
   "language": "python",
   "name": "python3"
  },
  "language_info": {
   "codemirror_mode": {
    "name": "ipython",
    "version": 3
   },
   "file_extension": ".py",
   "mimetype": "text/x-python",
   "name": "python",
   "nbconvert_exporter": "python",
   "pygments_lexer": "ipython3",
   "version": "3.11.11"
  }
 },
 "nbformat": 4,
 "nbformat_minor": 5
}
